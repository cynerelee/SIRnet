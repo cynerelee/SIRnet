{
 "cells": [
  {
   "cell_type": "code",
   "execution_count": 2,
   "metadata": {},
   "outputs": [
    {
     "data": {
      "image/png": "[encoded data removed]",
      "text/plain": [
       "<Figure size 432x288 with 1 Axes>"
      ]
     },
     "metadata": {
      "needs_background": "light"
     },
     "output_type": "display_data"
    }
   ],
   "source": [
    "import matplotlib.pyplot as plt\n",
    "import matplotlib\n",
    "color=['#377eb8', '#ff7f00', '#4daf4a','#f781bf', '#a65628', '#984ea3','#999999', '#e41a1c']\n",
    "alpha=0.6\n",
    "font1 = {'family' : 'Times New Roman',\n",
    "'weight' : 'normal',\n",
    "'size':15,\n",
    "}\n",
    "font2 = {'family' : 'Times New Roman',\n",
    "'weight' : 'normal',\n",
    "'size':10,\n",
    "}\n",
    "figure, ax = plt.subplots()\n",
    "# 设置matplotlib正常显示中文和负号\n",
    "matplotlib.rcParams['font.sans-serif']=['SimHei']   # 用黑体显示中文\n",
    "matplotlib.rcParams['axes.unicode_minus']=False     # 正常显示负号\n",
    "\n",
    "\n",
    "# 显示横轴标签\n",
    "#plt.xlabel(\"Distance/pixels\",font1)\n",
    "# 显示纵轴标签\n",
    "#plt.ylabel(\"Counts\",font1)\n",
    "#plt.axis([0, 1080, 0, 800])\n",
    "plt.tick_params(labelsize=15)\n",
    "#plt.xticks([0, 120,240,360,480,600,720,840,960,1080])\n",
    "#plt.yticks([0,100,200,300,400,500,600,700,800])\n",
    "labels = ax.get_xticklabels() + ax.get_yticklabels()\n",
    "[label.set_fontname('Times New Roman') for label in labels]\n",
    "# 显示图标题\n",
    "#plt.title(\"频数/频率分布直方图\")\n",
    "#plt.legend(loc = 'upper right',prop=font2)\n",
    "#plt.bar([1, 2, 3, 4, 5], [5, 4, 8, 12, 7])\n",
    "x=['CP','CR','CF1','OP','OR','OF1','HL'] \n",
    "#y=[0.1768,0.0838,0.0976,0.5702,0.2972,0.3907,0.0752]\n",
    "y=[0.2693,0.1656 ,0.1391 ,0.4556,0.2782,0.3455,0.0856]\n",
    "plt.bar(x,y,color=color,alpha=0.6) #指定不同颜色并设置透明度\n",
    "plt.ylim(ymax=0.6)\n",
    "for a, b in zip(x, y):\n",
    "    ax.text(a, b+0.01, b, ha='center', va='bottom',fontproperties='Times New Roman',fontsize=15)\n",
    "#plt.show()\n",
    "\n",
    "plt.savefig('Fig4.png')\n"
   ]
  },
  {
   "cell_type": "code",
   "execution_count": 8,
   "metadata": {},
   "outputs": [
    {
     "name": "stdout",
     "output_type": "stream",
     "text": [
      "(3, 4)\n",
      "(3, 2)\n",
      "[[0 1]\n",
      " [1 0]\n",
      " [1 1]]\n"
     ]
    }
   ],
   "source": [
    "import numpy as np\n",
    "a=np.array([[0,0,1,0],[0,1,0,0],[0,1,1,0]])\n",
    "b=np.array([[1,0,1,0],[0,1,0,0],[0,1,1,1]])\n",
    "print(a.shape)\n",
    "idx = np.argwhere(np.all(a[..., :] == 0, axis=0))\n",
    "a2 = np.delete(a, idx, axis=1)\n",
    "b2 = np.delete(b, idx, axis=1)\n",
    "print(a2.shape)\n",
    "print(b2)"
   ]
  },
  {
   "cell_type": "code",
   "execution_count": 33,
   "metadata": {},
   "outputs": [
    {
     "name": "stdout",
     "output_type": "stream",
     "text": [
      "0: ultrasound probe, ultrasound sensing, kidney\n",
      "0.84\n",
      "1: monopolar curved scissors, cutting, kidney\n",
      "0.56\n",
      "2: bipolar forceps, retraction, kidney\n",
      "0.56\n",
      "3: monopolar curved scissors, idle, null target\n",
      "0.37\n",
      "4: suction, idle, null target\n",
      "0.4\n",
      "5: suction, tissue manipulation, kidney\n",
      "0.05\n",
      "6: clip applier, idle, null target\n",
      "0.29\n",
      "7: prograsp forceps, tool manipulation, kidney\n",
      "0.26\n",
      "8: clip applier, clipping, kidney\n",
      "0.02\n",
      "9: bipolar forceps, grasping, kidney\n",
      "0.51\n",
      "10: bipolar forceps, idle, null target\n",
      "0.8\n",
      "11: prograsp forceps, tissue manipulation, kidney\n",
      "0.57\n",
      "12: suction, suction, kidney\n",
      "0.5\n",
      "13: monopolar curved scissors, tissue manipulation, kidney\n",
      "0.13\n",
      "14: prograsp forceps, retraction, kidney\n",
      "0.65\n",
      "15: monopolar curved scissors, cauterization, kidney\n",
      "0.2\n",
      "16: prograsp forceps, idle, null target\n",
      "0.26\n",
      "17: bipolar forceps, tissue manipulation, kidney\n",
      "0.7\n",
      "['n/a', 0.84, 'n/a', 0.56, 0.56, 0.37, 0.4, 'n/a', 'n/a', 'n/a', 'n/a', 0.05, 'n/a', 0.29, 0.26, 0.02, 0.51, 0.8, 'n/a', 0.57, 'n/a', 'n/a', 'n/a', 0.5, 0.13, 'n/a', 0.65, 0.2, 0.26, 0.7, 'n/a', 'n/a']\n"
     ]
    },
    {
     "ename": "NameError",
     "evalue": "name 'aaa' is not defined",
     "output_type": "error",
     "traceback": [
      "\u001b[1;31m---------------------------------------------------------------------------\u001b[0m",
      "\u001b[1;31mNameError\u001b[0m                                 Traceback (most recent call last)",
      "\u001b[1;32m<ipython-input-33-9dd0fb284330>\u001b[0m in \u001b[0;36m<module>\u001b[1;34m\u001b[0m\n\u001b[0;32m     60\u001b[0m \u001b[1;33m\u001b[0m\u001b[0m\n\u001b[0;32m     61\u001b[0m \u001b[0mprint\u001b[0m\u001b[1;33m(\u001b[0m\u001b[0my\u001b[0m\u001b[1;33m)\u001b[0m\u001b[1;33m\u001b[0m\u001b[1;33m\u001b[0m\u001b[0m\n\u001b[1;32m---> 62\u001b[1;33m \u001b[0maaa\u001b[0m\u001b[1;33m\u001b[0m\u001b[1;33m\u001b[0m\u001b[0m\n\u001b[0m\u001b[0;32m     63\u001b[0m \u001b[1;32mfor\u001b[0m \u001b[0mi\u001b[0m \u001b[1;32min\u001b[0m \u001b[0mrange\u001b[0m\u001b[1;33m(\u001b[0m\u001b[0mcount\u001b[0m\u001b[1;33m)\u001b[0m\u001b[1;33m:\u001b[0m\u001b[1;33m\u001b[0m\u001b[1;33m\u001b[0m\u001b[0m\n\u001b[0;32m     64\u001b[0m     \u001b[0my\u001b[0m\u001b[1;33m.\u001b[0m\u001b[0mremove\u001b[0m\u001b[1;33m(\u001b[0m\u001b[1;34m'n/a'\u001b[0m\u001b[1;33m)\u001b[0m\u001b[1;33m\u001b[0m\u001b[1;33m\u001b[0m\u001b[0m\n",
      "\u001b[1;31mNameError\u001b[0m: name 'aaa' is not defined"
     ]
    },
    {
     "data": {
      "image/png": "[encoded data removed]",
      "text/plain": [
       "<Figure size 432x288 with 1 Axes>"
      ]
     },
     "metadata": {
      "needs_background": "light"
     },
     "output_type": "display_data"
    }
   ],
   "source": [
    "import matplotlib.pyplot as plt\n",
    "import matplotlib\n",
    "import numpy as np\n",
    "ap=np.load('bestAP.npy')\n",
    "#print(ap)\n",
    "color=['#377eb8', '#ff7f00', '#4daf4a','#f781bf', '#a65628', '#984ea3','#999999', '#e41a1c','slateblue','darkslateblue','mediumslateblue','mediumpurple','indigo']\n",
    "alpha=0.6\n",
    "font1 = {'family' : 'Times New Roman',\n",
    "'weight' : 'normal',\n",
    "'size':15,\n",
    "}\n",
    "font2 = {'family' : 'Times New Roman',\n",
    "'weight' : 'normal',\n",
    "'size':10,\n",
    "}\n",
    "figure, ax = plt.subplots()\n",
    "# 设置matplotlib正常显示中文和负号\n",
    "matplotlib.rcParams['font.sans-serif']=['SimHei']   # 用黑体显示中文\n",
    "matplotlib.rcParams['axes.unicode_minus']=False     # 正常显示负号\n",
    "\n",
    "\n",
    "# 显示横轴标签\n",
    "#plt.xlabel(\"Distance/pixels\",font1)\n",
    "# 显示纵轴标签\n",
    "#plt.ylabel(\"Counts\",font1)\n",
    "#plt.axis([0, 1080, 0, 800])\n",
    "plt.tick_params(labelsize=15)\n",
    "#plt.xticks([0, 120,240,360,480,600,720,840,960,1080])\n",
    "#plt.yticks([0,100,200,300,400,500,600,700,800])\n",
    "labels = ax.get_xticklabels() + ax.get_yticklabels()\n",
    "[label.set_fontname('Times New Roman') for label in labels]\n",
    "# 显示图标题\n",
    "#plt.title(\"频数/频率分布直方图\")\n",
    "#plt.legend(loc = 'upper right',prop=font2)\n",
    "#plt.bar([1, 2, 3, 4, 5], [5, 4, 8, 12, 7])\n",
    "#x=['CP','CR','CF1','OP','OR','OF1','HL'] \n",
    "#y=[0.1768,0.0838,0.0976,0.5702,0.2972,0.3907,0.0752]\n",
    "\n",
    "y=ap.tolist()\n",
    "\n",
    "count=0\n",
    "for i in range(len(y)):\n",
    "    if y[i]=='n/a':\n",
    "        count+=1\n",
    "    else:\n",
    "        y[i]=float(y[i])\n",
    "        y[i]=round(y[i], 2)\n",
    "#y.remove('n/a')\n",
    "#print(count)\n",
    "\n",
    "f=open('map.txt')\n",
    "map=f.readlines()\n",
    "j=0\n",
    "for i in range(len(map)):\n",
    "    if y[i]!='n/a':\n",
    "        print(str(j)+': '+ map[i].lower().replace(\"_\", \" \").replace(\"/\", \", \")+str(y[i]))\n",
    "        j+=1\n",
    "        #continue\n",
    "        #print('n.a')\n",
    "    \n",
    "print(y)\n",
    "aaa\n",
    "for i in range(count):\n",
    "    y.remove('n/a')\n",
    "print(y)\n",
    "\n",
    "x=range(len(y))\n",
    "plt.bar(x,y,color=color,alpha=0.6) #指定不同颜色并设置透明度\n",
    "plt.xlim(xmax=len(y))\n",
    "#plt.xlim(xmin=0)\n",
    "plt.ylim(ymax=0.8)\n",
    "plt.ylim(ymin=0)\n",
    "for a, b in zip(x, y):\n",
    "    ax.text(a, b+0.01, b, ha='center', va='bottom',fontproperties='Times New Roman',fontsize=12)\n",
    "plt.xticks(range(len(y)))\n",
    "plt.yticks([0,0.1,0.2,0.3,0.4,0.5,0.6,0.7,0.8,0.9,1])\n",
    "\n",
    "plt.axhline(y=0.4263, color='r', linestyle='-')\n",
    "#plt.show()\n",
    "\n",
    "#plt.savefig('Fig5.png')\n"
   ]
  },
  {
   "cell_type": "code",
   "execution_count": 15,
   "metadata": {},
   "outputs": [
    {
     "name": "stdout",
     "output_type": "stream",
     "text": [
      "2\n",
      "[0.91, 0.35, 0.7, 0.24, 0.95, 0.77]\n"
     ]
    },
    {
     "data": {
      "image/png": "[encoded data removed]",
      "text/plain": [
       "<Figure size 432x288 with 1 Axes>"
      ]
     },
     "metadata": {
      "needs_background": "light"
     },
     "output_type": "display_data"
    }
   ],
   "source": [
    "import matplotlib.pyplot as plt\n",
    "import matplotlib\n",
    "import numpy as np\n",
    "ap=np.load('bestiAP.npy')\n",
    "#print(ap)\n",
    "color=['#377eb8', '#ff7f00', '#4daf4a','#f781bf', '#a65628', '#984ea3','#999999', '#e41a1c','slateblue','darkslateblue','mediumslateblue','mediumpurple','indigo']\n",
    "alpha=0.6\n",
    "font1 = {'family' : 'Times New Roman',\n",
    "'weight' : 'normal',\n",
    "'size':15,\n",
    "}\n",
    "font2 = {'family' : 'Times New Roman',\n",
    "'weight' : 'normal',\n",
    "'size':10,\n",
    "}\n",
    "figure, ax = plt.subplots()\n",
    "# 设置matplotlib正常显示中文和负号\n",
    "matplotlib.rcParams['font.sans-serif']=['SimHei']   # 用黑体显示中文\n",
    "matplotlib.rcParams['axes.unicode_minus']=False     # 正常显示负号\n",
    "\n",
    "\n",
    "# 显示横轴标签\n",
    "#plt.xlabel(\"Distance/pixels\",font1)\n",
    "# 显示纵轴标签\n",
    "#plt.ylabel(\"Counts\",font1)\n",
    "#plt.axis([0, 1080, 0, 800])\n",
    "plt.tick_params(labelsize=15)\n",
    "#plt.xticks([0, 120,240,360,480,600,720,840,960,1080])\n",
    "#plt.yticks([0,100,200,300,400,500,600,700,800])\n",
    "labels = ax.get_xticklabels() + ax.get_yticklabels()\n",
    "[label.set_fontname('Times New Roman') for label in labels]\n",
    "# 显示图标题\n",
    "#plt.title(\"频数/频率分布直方图\")\n",
    "#plt.legend(loc = 'upper right',prop=font2)\n",
    "#plt.bar([1, 2, 3, 4, 5], [5, 4, 8, 12, 7])\n",
    "#x=['CP','CR','CF1','OP','OR','OF1','HL'] \n",
    "#y=[0.1768,0.0838,0.0976,0.5702,0.2972,0.3907,0.0752]\n",
    "\n",
    "y=ap.tolist()\n",
    "\n",
    "count=0\n",
    "for i in range(len(y)):\n",
    "    if y[i]=='n/a':\n",
    "        count+=1\n",
    "    else:\n",
    "        y[i]=float(y[i])\n",
    "        y[i]=round(y[i], 2)\n",
    "#y.remove('n/a')\n",
    "print(count)\n",
    "for i in range(count):\n",
    "    y.remove('n/a')\n",
    "print(y)\n",
    "\n",
    "x=range(len(y))\n",
    "plt.bar(x,y,color=color,alpha=0.6) #指定不同颜色并设置透明度\n",
    "plt.xlim(xmax=len(y))\n",
    "#plt.xlim(xmin=0)\n",
    "plt.ylim(ymax=0.8)\n",
    "plt.ylim(ymin=0)\n",
    "for a, b in zip(x, y):\n",
    "    ax.text(a, b+0.01, b, ha='center', va='bottom',fontproperties='Times New Roman',fontsize=12)\n",
    "plt.xticks(range(len(y)))\n",
    "plt.yticks([0,0.1,0.2,0.3,0.4,0.5,0.6,0.7,0.8,0.9,1])\n",
    "\n",
    "plt.axhline(y=0.6515, color='r', linestyle='-')\n",
    "#plt.show()\n",
    "\n",
    "plt.savefig('Fig6.png')\n"
   ]
  },
  {
   "cell_type": "code",
   "execution_count": 16,
   "metadata": {},
   "outputs": [
    {
     "name": "stdout",
     "output_type": "stream",
     "text": [
      "3\n",
      "[0.18, 0.54, 'n/a', 0.02, 0.89, 'n/a', 0.41, 0.79, 0.32, 'n/a', 0.44, 0.05, 0.24]\n"
     ]
    },
    {
     "ename": "NameError",
     "evalue": "name 'aaa' is not defined",
     "output_type": "error",
     "traceback": [
      "\u001b[1;31m---------------------------------------------------------------------------\u001b[0m",
      "\u001b[1;31mNameError\u001b[0m                                 Traceback (most recent call last)",
      "\u001b[1;32m<ipython-input-16-294ab0d0c750>\u001b[0m in \u001b[0;36m<module>\u001b[1;34m\u001b[0m\n\u001b[0;32m     49\u001b[0m \u001b[0mprint\u001b[0m\u001b[1;33m(\u001b[0m\u001b[0mcount\u001b[0m\u001b[1;33m)\u001b[0m\u001b[1;33m\u001b[0m\u001b[1;33m\u001b[0m\u001b[0m\n\u001b[0;32m     50\u001b[0m \u001b[0mprint\u001b[0m\u001b[1;33m(\u001b[0m\u001b[0my\u001b[0m\u001b[1;33m)\u001b[0m\u001b[1;33m\u001b[0m\u001b[1;33m\u001b[0m\u001b[0m\n\u001b[1;32m---> 51\u001b[1;33m \u001b[0maaa\u001b[0m\u001b[1;33m\u001b[0m\u001b[1;33m\u001b[0m\u001b[0m\n\u001b[0m\u001b[0;32m     52\u001b[0m \u001b[1;32mfor\u001b[0m \u001b[0mi\u001b[0m \u001b[1;32min\u001b[0m \u001b[0mrange\u001b[0m\u001b[1;33m(\u001b[0m\u001b[0mcount\u001b[0m\u001b[1;33m)\u001b[0m\u001b[1;33m:\u001b[0m\u001b[1;33m\u001b[0m\u001b[1;33m\u001b[0m\u001b[0m\n\u001b[0;32m     53\u001b[0m     \u001b[0my\u001b[0m\u001b[1;33m.\u001b[0m\u001b[0mremove\u001b[0m\u001b[1;33m(\u001b[0m\u001b[1;34m'n/a'\u001b[0m\u001b[1;33m)\u001b[0m\u001b[1;33m\u001b[0m\u001b[1;33m\u001b[0m\u001b[0m\n",
      "\u001b[1;31mNameError\u001b[0m: name 'aaa' is not defined"
     ]
    },
    {
     "data": {
      "image/png": "[encoded data removed]",
      "text/plain": [
       "<Figure size 432x288 with 1 Axes>"
      ]
     },
     "metadata": {
      "needs_background": "light"
     },
     "output_type": "display_data"
    }
   ],
   "source": [
    "import matplotlib.pyplot as plt\n",
    "import matplotlib\n",
    "import numpy as np\n",
    "ap=np.load('bestvAP.npy')\n",
    "#print(ap)\n",
    "color=['#377eb8', '#ff7f00', '#4daf4a','#f781bf', '#a65628', '#984ea3','#999999', '#e41a1c','slateblue','darkslateblue','mediumslateblue','mediumpurple','indigo']\n",
    "alpha=0.6\n",
    "font1 = {'family' : 'Times New Roman',\n",
    "'weight' : 'normal',\n",
    "'size':15,\n",
    "}\n",
    "font2 = {'family' : 'Times New Roman',\n",
    "'weight' : 'normal',\n",
    "'size':10,\n",
    "}\n",
    "figure, ax = plt.subplots()\n",
    "# 设置matplotlib正常显示中文和负号\n",
    "matplotlib.rcParams['font.sans-serif']=['SimHei']   # 用黑体显示中文\n",
    "matplotlib.rcParams['axes.unicode_minus']=False     # 正常显示负号\n",
    "\n",
    "\n",
    "# 显示横轴标签\n",
    "#plt.xlabel(\"Distance/pixels\",font1)\n",
    "# 显示纵轴标签\n",
    "#plt.ylabel(\"Counts\",font1)\n",
    "#plt.axis([0, 1080, 0, 800])\n",
    "plt.tick_params(labelsize=15)\n",
    "#plt.xticks([0, 120,240,360,480,600,720,840,960,1080])\n",
    "#plt.yticks([0,100,200,300,400,500,600,700,800])\n",
    "labels = ax.get_xticklabels() + ax.get_yticklabels()\n",
    "[label.set_fontname('Times New Roman') for label in labels]\n",
    "# 显示图标题\n",
    "#plt.title(\"频数/频率分布直方图\")\n",
    "#plt.legend(loc = 'upper right',prop=font2)\n",
    "#plt.bar([1, 2, 3, 4, 5], [5, 4, 8, 12, 7])\n",
    "#x=['CP','CR','CF1','OP','OR','OF1','HL'] \n",
    "#y=[0.1768,0.0838,0.0976,0.5702,0.2972,0.3907,0.0752]\n",
    "\n",
    "y=ap.tolist()\n",
    "\n",
    "count=0\n",
    "for i in range(len(y)):\n",
    "    if y[i]=='n/a':\n",
    "        count+=1\n",
    "    else:\n",
    "        y[i]=float(y[i])\n",
    "        y[i]=round(y[i], 2)\n",
    "#y.remove('n/a')\n",
    "\n",
    "for i in range(count):\n",
    "    y.remove('n/a')\n",
    "print(y)\n",
    "\n",
    "x=range(len(y))\n",
    "plt.bar(x,y,color=color,alpha=0.6) #指定不同颜色并设置透明度\n",
    "plt.xlim(xmax=len(y))\n",
    "#plt.xlim(xmin=0)\n",
    "plt.ylim(ymax=0.8)\n",
    "plt.ylim(ymin=0)\n",
    "for a, b in zip(x, y):\n",
    "    ax.text(a, b+0.01, b, ha='center', va='bottom',fontproperties='Times New Roman',fontsize=12)\n",
    "plt.xticks(range(len(y)))\n",
    "plt.yticks([0,0.1,0.2,0.3,0.4,0.5,0.6,0.7,0.8,0.9,1])\n",
    "\n",
    "plt.axhline(y=0.3887, color='r', linestyle='-')\n",
    "plt.show()\n",
    "\n",
    "#plt.savefig('Fig7.png')\n"
   ]
  },
  {
   "cell_type": "code",
   "execution_count": 11,
   "metadata": {},
   "outputs": [
    {
     "name": "stdout",
     "output_type": "stream",
     "text": [
      "0\n",
      "[0.91, 0.71]\n"
     ]
    },
    {
     "data": {
      "image/png": "[encoded data removed]",
      "text/plain": [
       "<Figure size 432x288 with 1 Axes>"
      ]
     },
     "metadata": {
      "needs_background": "light"
     },
     "output_type": "display_data"
    }
   ],
   "source": [
    "import matplotlib.pyplot as plt\n",
    "import matplotlib\n",
    "import numpy as np\n",
    "ap=np.load('besttAP.npy')\n",
    "#print(ap)\n",
    "color=['#377eb8', '#ff7f00', '#4daf4a','#f781bf', '#a65628', '#984ea3','#999999', '#e41a1c','slateblue','darkslateblue','mediumslateblue','mediumpurple','indigo']\n",
    "alpha=0.6\n",
    "font1 = {'family' : 'Times New Roman',\n",
    "'weight' : 'normal',\n",
    "'size':15,\n",
    "}\n",
    "font2 = {'family' : 'Times New Roman',\n",
    "'weight' : 'normal',\n",
    "'size':10,\n",
    "}\n",
    "figure, ax = plt.subplots()\n",
    "# 设置matplotlib正常显示中文和负号\n",
    "matplotlib.rcParams['font.sans-serif']=['SimHei']   # 用黑体显示中文\n",
    "matplotlib.rcParams['axes.unicode_minus']=False     # 正常显示负号\n",
    "\n",
    "\n",
    "# 显示横轴标签\n",
    "#plt.xlabel(\"Distance/pixels\",font1)\n",
    "# 显示纵轴标签\n",
    "#plt.ylabel(\"Counts\",font1)\n",
    "#plt.axis([0, 1080, 0, 800])\n",
    "plt.tick_params(labelsize=15)\n",
    "#plt.xticks([0, 120,240,360,480,600,720,840,960,1080])\n",
    "#plt.yticks([0,100,200,300,400,500,600,700,800])\n",
    "labels = ax.get_xticklabels() + ax.get_yticklabels()\n",
    "[label.set_fontname('Times New Roman') for label in labels]\n",
    "# 显示图标题\n",
    "#plt.title(\"频数/频率分布直方图\")\n",
    "#plt.legend(loc = 'upper right',prop=font2)\n",
    "#plt.bar([1, 2, 3, 4, 5], [5, 4, 8, 12, 7])\n",
    "#x=['CP','CR','CF1','OP','OR','OF1','HL'] \n",
    "#y=[0.1768,0.0838,0.0976,0.5702,0.2972,0.3907,0.0752]\n",
    "\n",
    "y=ap.tolist()\n",
    "\n",
    "count=0\n",
    "for i in range(len(y)):\n",
    "    if y[i]=='n/a':\n",
    "        count+=1\n",
    "    else:\n",
    "        y[i]=float(y[i])\n",
    "        y[i]=round(y[i], 2)\n",
    "#y.remove('n/a')\n",
    "print(count)\n",
    "for i in range(count):\n",
    "    y.remove('n/a')\n",
    "print(y)\n",
    "\n",
    "x=range(len(y))\n",
    "plt.bar(x,y,color=color,alpha=0.6) #指定不同颜色并设置透明度\n",
    "plt.xlim(xmax=len(y))\n",
    "#plt.xlim(xmin=0)\n",
    "plt.ylim(ymax=0.8)\n",
    "plt.ylim(ymin=0)\n",
    "for a, b in zip(x, y):\n",
    "    ax.text(a, b+0.01, b, ha='center', va='bottom',fontproperties='Times New Roman',fontsize=12)\n",
    "plt.xticks(range(len(y)))\n",
    "plt.yticks([0,0.1,0.2,0.3,0.4,0.5,0.6,0.7,0.8,0.9,1])\n",
    "\n",
    "plt.axhline(y=0.8107, color='r', linestyle='-')\n",
    "#plt.show()\n",
    "\n",
    "plt.savefig('Fig8.png')"
   ]
  },
  {
   "cell_type": "code",
   "execution_count": null,
   "metadata": {},
   "outputs": [],
   "source": []
  }
 ],
 "metadata": {
  "kernelspec": {
   "display_name": "Python 3",
   "language": "python",
   "name": "python3"
  },
  "language_info": {
   "codemirror_mode": {
    "name": "ipython",
    "version": 3
   },
   "file_extension": ".py",
   "mimetype": "text/x-python",
   "name": "python",
   "nbconvert_exporter": "python",
   "pygments_lexer": "ipython3",
   "version": "3.8.3"
  }
 },
 "nbformat": 4,
 "nbformat_minor": 4
}
